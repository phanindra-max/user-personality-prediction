{
 "cells": [
  {
   "cell_type": "code",
   "execution_count": 2,
   "metadata": {
    "execution": {
     "iopub.execute_input": "2021-12-21T15:42:50.216676Z",
     "iopub.status.busy": "2021-12-21T15:42:50.216406Z",
     "iopub.status.idle": "2021-12-21T15:42:52.810724Z",
     "shell.execute_reply": "2021-12-21T15:42:52.809689Z",
     "shell.execute_reply.started": "2021-12-21T15:42:50.216646Z"
    }
   },
   "outputs": [],
   "source": [
    "import warnings\n",
    "warnings.filterwarnings('ignore')\n",
    "import pandas as pd\n",
    "from imblearn.over_sampling import SMOTE\n",
    "from matplotlib import pyplot\n",
    "import matplotlib.pyplot as plt\n",
    "from sklearn.metrics import classification_report,confusion_matrix\n",
    "import matplotlib.patches as patches\n",
    "from sklearn.metrics import roc_curve,auc\n",
    "import pickle\n",
    "\n",
    "import pandas as pd\n",
    "import seaborn as sns\n",
    "import matplotlib.pyplot as plt\n",
    "import nltk\n",
    "from sklearn.preprocessing import LabelBinarizer\n",
    "from nltk.corpus import stopwords\n",
    "from nltk.stem.porter import PorterStemmer\n",
    "from wordcloud import WordCloud,STOPWORDS\n",
    "from nltk.stem import WordNetLemmatizer\n",
    "from nltk.tokenize import word_tokenize,sent_tokenize\n",
    "from bs4 import BeautifulSoup\n",
    "import re,string,unicodedata\n",
    "\n",
    "from sklearn.metrics import classification_report,confusion_matrix,accuracy_score\n",
    "from sklearn.model_selection import train_test_split\n",
    "from string import punctuation\n",
    "from nltk import pos_tag\n",
    "from nltk.corpus import wordnet\n",
    "\n",
    "\n",
    "from itertools import chain\n",
    "from collections import Counter\n",
    "import seaborn as sns\n",
    "import joblib\n",
    "from scipy import interp\n",
    "\n",
    "from mlxtend.feature_selection import SequentialFeatureSelector as SFS\n",
    "\n",
    "import re\n",
    "from wordcloud import WordCloud\n",
    "import liwc\n",
    "\n",
    "from sklearn.feature_extraction.text import CountVectorizer,TfidfVectorizer, HashingVectorizer\n",
    "from nltk.corpus import stopwords\n",
    "from nltk.stem.porter import PorterStemmer\n",
    "\n",
    "import itertools\n",
    "from sklearn.metrics import accuracy_score,confusion_matrix,classification_report\n",
    "import warnings\n",
    "warnings.filterwarnings(\"ignore\")\n",
    "from nltk import ne_chunk, pos_tag, word_tokenize, sent_tokenize"
   ]
  },
  {
   "cell_type": "code",
   "execution_count": 3,
   "metadata": {
    "execution": {
     "iopub.execute_input": "2021-12-21T15:42:52.813015Z",
     "iopub.status.busy": "2021-12-21T15:42:52.812674Z",
     "iopub.status.idle": "2021-12-21T15:42:52.854433Z",
     "shell.execute_reply": "2021-12-21T15:42:52.853193Z",
     "shell.execute_reply.started": "2021-12-21T15:42:52.812969Z"
    }
   },
   "outputs": [],
   "source": [
    "liwcPath = r'LIWC2015_English.dic'\n",
    "parse, category_names = liwc.load_token_parser(liwcPath)"
   ]
  },
  {
   "cell_type": "code",
   "execution_count": 4,
   "metadata": {},
   "outputs": [
    {
     "data": {
      "text/html": [
       "<div>\n",
       "<style scoped>\n",
       "    .dataframe tbody tr th:only-of-type {\n",
       "        vertical-align: middle;\n",
       "    }\n",
       "\n",
       "    .dataframe tbody tr th {\n",
       "        vertical-align: top;\n",
       "    }\n",
       "\n",
       "    .dataframe thead th {\n",
       "        text-align: right;\n",
       "    }\n",
       "</style>\n",
       "<table border=\"1\" class=\"dataframe\">\n",
       "  <thead>\n",
       "    <tr style=\"text-align: right;\">\n",
       "      <th></th>\n",
       "      <th>Unnamed: 0</th>\n",
       "      <th>Type</th>\n",
       "      <th>Posts</th>\n",
       "      <th>Unnamed: 3</th>\n",
       "      <th>Unnamed: 4</th>\n",
       "      <th>Unnamed: 5</th>\n",
       "      <th>Unnamed: 6</th>\n",
       "      <th>Unnamed: 7</th>\n",
       "      <th>Unnamed: 8</th>\n",
       "      <th>Unnamed: 9</th>\n",
       "      <th>...</th>\n",
       "      <th>Unnamed: 14</th>\n",
       "      <th>Unnamed: 15</th>\n",
       "      <th>Unnamed: 16</th>\n",
       "      <th>Unnamed: 17</th>\n",
       "      <th>Unnamed: 18</th>\n",
       "      <th>Unnamed: 19</th>\n",
       "      <th>Unnamed: 20</th>\n",
       "      <th>Unnamed: 21</th>\n",
       "      <th>Unnamed: 22</th>\n",
       "      <th>Unnamed: 23</th>\n",
       "    </tr>\n",
       "  </thead>\n",
       "  <tbody>\n",
       "    <tr>\n",
       "      <th>0</th>\n",
       "      <td>1</td>\n",
       "      <td>O</td>\n",
       "      <td>http://www.youtube.com/watch?v=qsXHcwe3krw|||h...</td>\n",
       "      <td>NaN</td>\n",
       "      <td>NaN</td>\n",
       "      <td>NaN</td>\n",
       "      <td>NaN</td>\n",
       "      <td>NaN</td>\n",
       "      <td>NaN</td>\n",
       "      <td>NaN</td>\n",
       "      <td>...</td>\n",
       "      <td>NaN</td>\n",
       "      <td>NaN</td>\n",
       "      <td>NaN</td>\n",
       "      <td>NaN</td>\n",
       "      <td>NaN</td>\n",
       "      <td>NaN</td>\n",
       "      <td>NaN</td>\n",
       "      <td>NaN</td>\n",
       "      <td>NaN</td>\n",
       "      <td>NaN</td>\n",
       "    </tr>\n",
       "    <tr>\n",
       "      <th>1</th>\n",
       "      <td>2</td>\n",
       "      <td>A</td>\n",
       "      <td>'I'm finding the lack of me in these posts ver...</td>\n",
       "      <td>NaN</td>\n",
       "      <td>NaN</td>\n",
       "      <td>NaN</td>\n",
       "      <td>NaN</td>\n",
       "      <td>NaN</td>\n",
       "      <td>NaN</td>\n",
       "      <td>NaN</td>\n",
       "      <td>...</td>\n",
       "      <td>NaN</td>\n",
       "      <td>NaN</td>\n",
       "      <td>NaN</td>\n",
       "      <td>NaN</td>\n",
       "      <td>NaN</td>\n",
       "      <td>NaN</td>\n",
       "      <td>NaN</td>\n",
       "      <td>NaN</td>\n",
       "      <td>NaN</td>\n",
       "      <td>NaN</td>\n",
       "    </tr>\n",
       "    <tr>\n",
       "      <th>2</th>\n",
       "      <td>3</td>\n",
       "      <td>O</td>\n",
       "      <td>'Good one  _____   https://www.youtube.com/wat...</td>\n",
       "      <td>NaN</td>\n",
       "      <td>NaN</td>\n",
       "      <td>NaN</td>\n",
       "      <td>NaN</td>\n",
       "      <td>NaN</td>\n",
       "      <td>NaN</td>\n",
       "      <td>NaN</td>\n",
       "      <td>...</td>\n",
       "      <td>NaN</td>\n",
       "      <td>NaN</td>\n",
       "      <td>NaN</td>\n",
       "      <td>NaN</td>\n",
       "      <td>NaN</td>\n",
       "      <td>NaN</td>\n",
       "      <td>NaN</td>\n",
       "      <td>NaN</td>\n",
       "      <td>NaN</td>\n",
       "      <td>NaN</td>\n",
       "    </tr>\n",
       "    <tr>\n",
       "      <th>3</th>\n",
       "      <td>4</td>\n",
       "      <td>O</td>\n",
       "      <td>'Dear INTP,   I enjoyed our conversation the o...</td>\n",
       "      <td>NaN</td>\n",
       "      <td>NaN</td>\n",
       "      <td>NaN</td>\n",
       "      <td>NaN</td>\n",
       "      <td>NaN</td>\n",
       "      <td>NaN</td>\n",
       "      <td>NaN</td>\n",
       "      <td>...</td>\n",
       "      <td>NaN</td>\n",
       "      <td>NaN</td>\n",
       "      <td>NaN</td>\n",
       "      <td>NaN</td>\n",
       "      <td>NaN</td>\n",
       "      <td>NaN</td>\n",
       "      <td>NaN</td>\n",
       "      <td>NaN</td>\n",
       "      <td>NaN</td>\n",
       "      <td>NaN</td>\n",
       "    </tr>\n",
       "    <tr>\n",
       "      <th>4</th>\n",
       "      <td>5</td>\n",
       "      <td>A</td>\n",
       "      <td>'You're fired.|||That's another silly misconce...</td>\n",
       "      <td>NaN</td>\n",
       "      <td>NaN</td>\n",
       "      <td>NaN</td>\n",
       "      <td>NaN</td>\n",
       "      <td>NaN</td>\n",
       "      <td>NaN</td>\n",
       "      <td>NaN</td>\n",
       "      <td>...</td>\n",
       "      <td>NaN</td>\n",
       "      <td>NaN</td>\n",
       "      <td>NaN</td>\n",
       "      <td>NaN</td>\n",
       "      <td>NaN</td>\n",
       "      <td>NaN</td>\n",
       "      <td>NaN</td>\n",
       "      <td>NaN</td>\n",
       "      <td>NaN</td>\n",
       "      <td>NaN</td>\n",
       "    </tr>\n",
       "  </tbody>\n",
       "</table>\n",
       "<p>5 rows × 24 columns</p>\n",
       "</div>"
      ],
      "text/plain": [
       "   Unnamed: 0 Type                                              Posts  \\\n",
       "0           1    O  http://www.youtube.com/watch?v=qsXHcwe3krw|||h...   \n",
       "1           2    A  'I'm finding the lack of me in these posts ver...   \n",
       "2           3    O  'Good one  _____   https://www.youtube.com/wat...   \n",
       "3           4    O  'Dear INTP,   I enjoyed our conversation the o...   \n",
       "4           5    A  'You're fired.|||That's another silly misconce...   \n",
       "\n",
       "  Unnamed: 3 Unnamed: 4 Unnamed: 5 Unnamed: 6 Unnamed: 7 Unnamed: 8  \\\n",
       "0        NaN        NaN        NaN        NaN        NaN        NaN   \n",
       "1        NaN        NaN        NaN        NaN        NaN        NaN   \n",
       "2        NaN        NaN        NaN        NaN        NaN        NaN   \n",
       "3        NaN        NaN        NaN        NaN        NaN        NaN   \n",
       "4        NaN        NaN        NaN        NaN        NaN        NaN   \n",
       "\n",
       "  Unnamed: 9  ... Unnamed: 14 Unnamed: 15 Unnamed: 16 Unnamed: 17 Unnamed: 18  \\\n",
       "0        NaN  ...         NaN         NaN         NaN         NaN         NaN   \n",
       "1        NaN  ...         NaN         NaN         NaN         NaN         NaN   \n",
       "2        NaN  ...         NaN         NaN         NaN         NaN         NaN   \n",
       "3        NaN  ...         NaN         NaN         NaN         NaN         NaN   \n",
       "4        NaN  ...         NaN         NaN         NaN         NaN         NaN   \n",
       "\n",
       "  Unnamed: 19 Unnamed: 20 Unnamed: 21 Unnamed: 22 Unnamed: 23  \n",
       "0         NaN         NaN         NaN         NaN         NaN  \n",
       "1         NaN         NaN         NaN         NaN         NaN  \n",
       "2         NaN         NaN         NaN         NaN         NaN  \n",
       "3         NaN         NaN         NaN         NaN         NaN  \n",
       "4         NaN         NaN         NaN         NaN         NaN  \n",
       "\n",
       "[5 rows x 24 columns]"
      ]
     },
     "execution_count": 4,
     "metadata": {},
     "output_type": "execute_result"
    }
   ],
   "source": [
    "#reading the dataframe\n",
    "df = pd.read_csv('data.csv',encoding='ISO-8859-1')\n",
    "df.head()"
   ]
  },
  {
   "cell_type": "code",
   "execution_count": 5,
   "metadata": {},
   "outputs": [],
   "source": [
    "df = df[['Type','Posts']]"
   ]
  },
  {
   "cell_type": "code",
   "execution_count": 6,
   "metadata": {
    "execution": {
     "iopub.execute_input": "2021-12-21T15:42:55.903940Z",
     "iopub.status.busy": "2021-12-21T15:42:55.902959Z",
     "iopub.status.idle": "2021-12-21T15:42:55.928130Z",
     "shell.execute_reply": "2021-12-21T15:42:55.927264Z",
     "shell.execute_reply.started": "2021-12-21T15:42:55.903878Z"
    }
   },
   "outputs": [
    {
     "data": {
      "text/html": [
       "<div>\n",
       "<style scoped>\n",
       "    .dataframe tbody tr th:only-of-type {\n",
       "        vertical-align: middle;\n",
       "    }\n",
       "\n",
       "    .dataframe tbody tr th {\n",
       "        vertical-align: top;\n",
       "    }\n",
       "\n",
       "    .dataframe thead th {\n",
       "        text-align: right;\n",
       "    }\n",
       "</style>\n",
       "<table border=\"1\" class=\"dataframe\">\n",
       "  <thead>\n",
       "    <tr style=\"text-align: right;\">\n",
       "      <th></th>\n",
       "      <th>Type</th>\n",
       "      <th>Posts</th>\n",
       "    </tr>\n",
       "  </thead>\n",
       "  <tbody>\n",
       "    <tr>\n",
       "      <th>0</th>\n",
       "      <td>O</td>\n",
       "      <td>http://www.youtube.com/watch?v=qsXHcwe3krw|||h...</td>\n",
       "    </tr>\n",
       "    <tr>\n",
       "      <th>1</th>\n",
       "      <td>A</td>\n",
       "      <td>'I'm finding the lack of me in these posts ver...</td>\n",
       "    </tr>\n",
       "    <tr>\n",
       "      <th>2</th>\n",
       "      <td>O</td>\n",
       "      <td>'Good one  _____   https://www.youtube.com/wat...</td>\n",
       "    </tr>\n",
       "    <tr>\n",
       "      <th>3</th>\n",
       "      <td>O</td>\n",
       "      <td>'Dear INTP,   I enjoyed our conversation the o...</td>\n",
       "    </tr>\n",
       "    <tr>\n",
       "      <th>4</th>\n",
       "      <td>A</td>\n",
       "      <td>'You're fired.|||That's another silly misconce...</td>\n",
       "    </tr>\n",
       "    <tr>\n",
       "      <th>...</th>\n",
       "      <td>...</td>\n",
       "      <td>...</td>\n",
       "    </tr>\n",
       "    <tr>\n",
       "      <th>8670</th>\n",
       "      <td>C</td>\n",
       "      <td>'https://www.youtube.com/watch?v=t8edHB_h908||...</td>\n",
       "    </tr>\n",
       "    <tr>\n",
       "      <th>8671</th>\n",
       "      <td>A</td>\n",
       "      <td>'So...if this thread already exists someplace ...</td>\n",
       "    </tr>\n",
       "    <tr>\n",
       "      <th>8672</th>\n",
       "      <td>O</td>\n",
       "      <td>'So many questions when i do these things.  I ...</td>\n",
       "    </tr>\n",
       "    <tr>\n",
       "      <th>8673</th>\n",
       "      <td>O</td>\n",
       "      <td>'I am very conflicted right now when it comes ...</td>\n",
       "    </tr>\n",
       "    <tr>\n",
       "      <th>8674</th>\n",
       "      <td>O</td>\n",
       "      <td>'It has been too long since I have been on per...</td>\n",
       "    </tr>\n",
       "  </tbody>\n",
       "</table>\n",
       "<p>8675 rows × 2 columns</p>\n",
       "</div>"
      ],
      "text/plain": [
       "     Type                                              Posts\n",
       "0       O  http://www.youtube.com/watch?v=qsXHcwe3krw|||h...\n",
       "1       A  'I'm finding the lack of me in these posts ver...\n",
       "2       O  'Good one  _____   https://www.youtube.com/wat...\n",
       "3       O  'Dear INTP,   I enjoyed our conversation the o...\n",
       "4       A  'You're fired.|||That's another silly misconce...\n",
       "...   ...                                                ...\n",
       "8670    C  'https://www.youtube.com/watch?v=t8edHB_h908||...\n",
       "8671    A  'So...if this thread already exists someplace ...\n",
       "8672    O  'So many questions when i do these things.  I ...\n",
       "8673    O  'I am very conflicted right now when it comes ...\n",
       "8674    O  'It has been too long since I have been on per...\n",
       "\n",
       "[8675 rows x 2 columns]"
      ]
     },
     "execution_count": 6,
     "metadata": {},
     "output_type": "execute_result"
    }
   ],
   "source": [
    "df"
   ]
  },
  {
   "cell_type": "code",
   "execution_count": 7,
   "metadata": {
    "execution": {
     "iopub.execute_input": "2021-12-21T15:42:56.064630Z",
     "iopub.status.busy": "2021-12-21T15:42:56.064305Z",
     "iopub.status.idle": "2021-12-21T15:42:56.072204Z",
     "shell.execute_reply": "2021-12-21T15:42:56.070932Z",
     "shell.execute_reply.started": "2021-12-21T15:42:56.064588Z"
    }
   },
   "outputs": [
    {
     "data": {
      "text/plain": [
       "(8675, 2)"
      ]
     },
     "execution_count": 7,
     "metadata": {},
     "output_type": "execute_result"
    }
   ],
   "source": [
    "df.shape"
   ]
  },
  {
   "cell_type": "code",
   "execution_count": 8,
   "metadata": {
    "execution": {
     "iopub.execute_input": "2021-12-21T15:42:56.075138Z",
     "iopub.status.busy": "2021-12-21T15:42:56.074419Z",
     "iopub.status.idle": "2021-12-21T15:42:56.084396Z",
     "shell.execute_reply": "2021-12-21T15:42:56.083037Z",
     "shell.execute_reply.started": "2021-12-21T15:42:56.075095Z"
    }
   },
   "outputs": [],
   "source": [
    "def wordopt(text):\n",
    "    text = text.lower()\n",
    "    text = re.sub('\\[.*?\\]', '', text)\n",
    "    text = re.sub(\"\\\\W\",\" \",text) \n",
    "    text = re.sub('https?://\\S+|www\\.\\S+', '', text)\n",
    "    text = re.sub('<.*?>+', '', text)\n",
    "    text = re.sub('[%s]' % re.escape(string.punctuation), '', text)\n",
    "    text = re.sub('\\n', '', text)\n",
    "    text = re.sub('\\w*\\d\\w*', '', text)    \n",
    "    return text"
   ]
  },
  {
   "cell_type": "code",
   "execution_count": 10,
   "metadata": {
    "execution": {
     "iopub.execute_input": "2021-12-21T15:42:56.087210Z",
     "iopub.status.busy": "2021-12-21T15:42:56.086382Z",
     "iopub.status.idle": "2021-12-21T15:42:59.928602Z",
     "shell.execute_reply": "2021-12-21T15:42:59.927655Z",
     "shell.execute_reply.started": "2021-12-21T15:42:56.087166Z"
    }
   },
   "outputs": [],
   "source": [
    "df['Posts'] = df.Posts.apply(lambda x : wordopt(x))"
   ]
  },
  {
   "cell_type": "code",
   "execution_count": 11,
   "metadata": {
    "execution": {
     "iopub.execute_input": "2021-12-21T15:42:59.930979Z",
     "iopub.status.busy": "2021-12-21T15:42:59.930539Z",
     "iopub.status.idle": "2021-12-21T15:42:59.940759Z",
     "shell.execute_reply": "2021-12-21T15:42:59.939420Z",
     "shell.execute_reply.started": "2021-12-21T15:42:59.930935Z"
    }
   },
   "outputs": [
    {
     "data": {
      "text/plain": [
       "0       http   www youtube com watch v    http    medi...\n",
       "1        i m finding the lack of me in these posts ver...\n",
       "2        good one     https   www youtube com watch v ...\n",
       "3        dear intp    i enjoyed our conversation the o...\n",
       "4        you re fired    that s another silly misconce...\n",
       "                              ...                        \n",
       "8670     https   www youtube com watch v    ixfp just ...\n",
       "8671     so   if this thread already exists someplace ...\n",
       "8672     so many questions when i do these things   i ...\n",
       "8673     i am very conflicted right now when it comes ...\n",
       "8674     it has been too long since i have been on per...\n",
       "Name: Posts, Length: 8675, dtype: object"
      ]
     },
     "execution_count": 11,
     "metadata": {},
     "output_type": "execute_result"
    }
   ],
   "source": [
    "df['Posts']"
   ]
  },
  {
   "cell_type": "code",
   "execution_count": 12,
   "metadata": {
    "execution": {
     "iopub.execute_input": "2021-12-21T15:42:59.943874Z",
     "iopub.status.busy": "2021-12-21T15:42:59.943122Z",
     "iopub.status.idle": "2021-12-21T15:42:59.952939Z",
     "shell.execute_reply": "2021-12-21T15:42:59.951777Z",
     "shell.execute_reply.started": "2021-12-21T15:42:59.943811Z"
    }
   },
   "outputs": [],
   "source": [
    "eng_stopwords = nltk.corpus.stopwords.words(\"english\")"
   ]
  },
  {
   "cell_type": "code",
   "execution_count": 13,
   "metadata": {
    "execution": {
     "iopub.execute_input": "2021-12-21T15:42:59.956037Z",
     "iopub.status.busy": "2021-12-21T15:42:59.955295Z",
     "iopub.status.idle": "2021-12-21T15:42:59.962962Z",
     "shell.execute_reply": "2021-12-21T15:42:59.961761Z",
     "shell.execute_reply.started": "2021-12-21T15:42:59.955991Z"
    }
   },
   "outputs": [],
   "source": [
    "def remove_eng_stopwords(text):\n",
    "    token_text = nltk.word_tokenize(text)\n",
    "    remove_stop = [word for word in token_text if word not in eng_stopwords]\n",
    "    join_text = ' '.join(remove_stop)\n",
    "    return join_text"
   ]
  },
  {
   "cell_type": "code",
   "execution_count": 14,
   "metadata": {
    "execution": {
     "iopub.execute_input": "2021-12-21T15:42:59.966032Z",
     "iopub.status.busy": "2021-12-21T15:42:59.965096Z",
     "iopub.status.idle": "2021-12-21T15:43:17.689911Z",
     "shell.execute_reply": "2021-12-21T15:43:17.688826Z",
     "shell.execute_reply.started": "2021-12-21T15:42:59.965984Z"
    }
   },
   "outputs": [],
   "source": [
    "df['Posts'] = df.Posts.apply(lambda x : remove_eng_stopwords(x))"
   ]
  },
  {
   "cell_type": "code",
   "execution_count": 15,
   "metadata": {
    "execution": {
     "iopub.execute_input": "2021-12-21T15:43:17.692109Z",
     "iopub.status.busy": "2021-12-21T15:43:17.691778Z",
     "iopub.status.idle": "2021-12-21T15:43:17.710407Z",
     "shell.execute_reply": "2021-12-21T15:43:17.709253Z",
     "shell.execute_reply.started": "2021-12-21T15:43:17.692065Z"
    }
   },
   "outputs": [
    {
     "data": {
      "text/html": [
       "<div>\n",
       "<style scoped>\n",
       "    .dataframe tbody tr th:only-of-type {\n",
       "        vertical-align: middle;\n",
       "    }\n",
       "\n",
       "    .dataframe tbody tr th {\n",
       "        vertical-align: top;\n",
       "    }\n",
       "\n",
       "    .dataframe thead th {\n",
       "        text-align: right;\n",
       "    }\n",
       "</style>\n",
       "<table border=\"1\" class=\"dataframe\">\n",
       "  <thead>\n",
       "    <tr style=\"text-align: right;\">\n",
       "      <th></th>\n",
       "      <th>Type</th>\n",
       "      <th>Posts</th>\n",
       "    </tr>\n",
       "  </thead>\n",
       "  <tbody>\n",
       "    <tr>\n",
       "      <th>0</th>\n",
       "      <td>O</td>\n",
       "      <td>http www youtube com watch v http media tumblr...</td>\n",
       "    </tr>\n",
       "    <tr>\n",
       "      <th>1</th>\n",
       "      <td>A</td>\n",
       "      <td>finding lack posts alarming sex boring positio...</td>\n",
       "    </tr>\n",
       "    <tr>\n",
       "      <th>2</th>\n",
       "      <td>O</td>\n",
       "      <td>good one https www youtube com watch v fhigbol...</td>\n",
       "    </tr>\n",
       "    <tr>\n",
       "      <th>3</th>\n",
       "      <td>O</td>\n",
       "      <td>dear intp enjoyed conversation day esoteric ga...</td>\n",
       "    </tr>\n",
       "    <tr>\n",
       "      <th>4</th>\n",
       "      <td>A</td>\n",
       "      <td>fired another silly misconception approaching ...</td>\n",
       "    </tr>\n",
       "    <tr>\n",
       "      <th>...</th>\n",
       "      <td>...</td>\n",
       "      <td>...</td>\n",
       "    </tr>\n",
       "    <tr>\n",
       "      <th>8670</th>\n",
       "      <td>C</td>\n",
       "      <td>https www youtube com watch v ixfp always thin...</td>\n",
       "    </tr>\n",
       "    <tr>\n",
       "      <th>8671</th>\n",
       "      <td>A</td>\n",
       "      <td>thread already exists someplace else http pers...</td>\n",
       "    </tr>\n",
       "    <tr>\n",
       "      <th>8672</th>\n",
       "      <td>O</td>\n",
       "      <td>many questions things would take purple pill p...</td>\n",
       "    </tr>\n",
       "    <tr>\n",
       "      <th>8673</th>\n",
       "      <td>O</td>\n",
       "      <td>conflicted right comes wanting children honest...</td>\n",
       "    </tr>\n",
       "    <tr>\n",
       "      <th>8674</th>\n",
       "      <td>O</td>\n",
       "      <td>long since personalitycafe although seem chang...</td>\n",
       "    </tr>\n",
       "  </tbody>\n",
       "</table>\n",
       "<p>8675 rows × 2 columns</p>\n",
       "</div>"
      ],
      "text/plain": [
       "     Type                                              Posts\n",
       "0       O  http www youtube com watch v http media tumblr...\n",
       "1       A  finding lack posts alarming sex boring positio...\n",
       "2       O  good one https www youtube com watch v fhigbol...\n",
       "3       O  dear intp enjoyed conversation day esoteric ga...\n",
       "4       A  fired another silly misconception approaching ...\n",
       "...   ...                                                ...\n",
       "8670    C  https www youtube com watch v ixfp always thin...\n",
       "8671    A  thread already exists someplace else http pers...\n",
       "8672    O  many questions things would take purple pill p...\n",
       "8673    O  conflicted right comes wanting children honest...\n",
       "8674    O  long since personalitycafe although seem chang...\n",
       "\n",
       "[8675 rows x 2 columns]"
      ]
     },
     "execution_count": 15,
     "metadata": {},
     "output_type": "execute_result"
    }
   ],
   "source": [
    "df"
   ]
  },
  {
   "cell_type": "code",
   "execution_count": 16,
   "metadata": {},
   "outputs": [
    {
     "data": {
      "text/plain": [
       "array([4, 0, 1, 3, 2])"
      ]
     },
     "execution_count": 16,
     "metadata": {},
     "output_type": "execute_result"
    }
   ],
   "source": [
    "# Import label encoder\n",
    "from sklearn import preprocessing\n",
    "\n",
    "# label_encoder object knows how to understand word labels.\n",
    "label_encoder = preprocessing.LabelEncoder()\n",
    "\n",
    "# Encode labels in column 'species'.\n",
    "df['Type']= label_encoder.fit_transform(df['Type'])\n",
    "\n",
    "df['Type'].unique()\n"
   ]
  },
  {
   "cell_type": "code",
   "execution_count": 17,
   "metadata": {
    "execution": {
     "iopub.execute_input": "2021-12-21T15:43:17.712822Z",
     "iopub.status.busy": "2021-12-21T15:43:17.712499Z",
     "iopub.status.idle": "2021-12-21T15:43:17.720571Z",
     "shell.execute_reply": "2021-12-21T15:43:17.719471Z",
     "shell.execute_reply.started": "2021-12-21T15:43:17.712778Z"
    }
   },
   "outputs": [],
   "source": [
    "from nltk.stem import WordNetLemmatizer\n",
    "from sklearn.feature_extraction.text import TfidfVectorizer, CountVectorizer\n",
    "lemm = WordNetLemmatizer()\n",
    "def word_lemmatizer(text):\n",
    "    token_text = nltk.word_tokenize(text)\n",
    "    remove_stop = [lemm.lemmatize(w) for w in token_text]\n",
    "    join_text = ' '.join(remove_stop)\n",
    "    return join_text"
   ]
  },
  {
   "cell_type": "code",
   "execution_count": 18,
   "metadata": {
    "execution": {
     "iopub.execute_input": "2021-12-21T15:43:17.723500Z",
     "iopub.status.busy": "2021-12-21T15:43:17.722579Z",
     "iopub.status.idle": "2021-12-21T15:43:36.628506Z",
     "shell.execute_reply": "2021-12-21T15:43:36.627471Z",
     "shell.execute_reply.started": "2021-12-21T15:43:17.723454Z"
    }
   },
   "outputs": [],
   "source": [
    "df['Posts'] =df.Posts.apply(lambda x : word_lemmatizer(x))"
   ]
  },
  {
   "cell_type": "code",
   "execution_count": 19,
   "metadata": {
    "execution": {
     "iopub.execute_input": "2021-12-21T15:43:36.630405Z",
     "iopub.status.busy": "2021-12-21T15:43:36.630119Z",
     "iopub.status.idle": "2021-12-21T15:43:36.639020Z",
     "shell.execute_reply": "2021-12-21T15:43:36.637935Z",
     "shell.execute_reply.started": "2021-12-21T15:43:36.630362Z"
    }
   },
   "outputs": [
    {
     "data": {
      "text/plain": [
       "0       http www youtube com watch v http medium tumbl...\n",
       "1       finding lack post alarming sex boring position...\n",
       "2       good one http www youtube com watch v fhigbolf...\n",
       "3       dear intp enjoyed conversation day esoteric ga...\n",
       "4       fired another silly misconception approaching ...\n",
       "                              ...                        \n",
       "8670    http www youtube com watch v ixfp always think...\n",
       "8671    thread already exists someplace else http pers...\n",
       "8672    many question thing would take purple pill pic...\n",
       "8673    conflicted right come wanting child honestly m...\n",
       "8674    long since personalitycafe although seem chang...\n",
       "Name: Posts, Length: 8675, dtype: object"
      ]
     },
     "execution_count": 19,
     "metadata": {},
     "output_type": "execute_result"
    }
   ],
   "source": [
    "df['Posts']"
   ]
  },
  {
   "cell_type": "code",
   "execution_count": 20,
   "metadata": {
    "execution": {
     "iopub.execute_input": "2021-12-21T15:43:36.649735Z",
     "iopub.status.busy": "2021-12-21T15:43:36.649105Z",
     "iopub.status.idle": "2021-12-21T15:43:36.671632Z",
     "shell.execute_reply": "2021-12-21T15:43:36.670626Z",
     "shell.execute_reply.started": "2021-12-21T15:43:36.649690Z"
    }
   },
   "outputs": [],
   "source": [
    "Word_STOPWORDS = [\"e\", \"te\", \"i\", \"me\", \"qe\", \"ne\", \"nje\", \"a\", \"per\", \"sh\", \"nga\", \"ka\", \"u\", \"eshte\", \"dhe\", \"shih\", \"nuk\",\n",
    "             \"m\", \"dicka\", \"ose\", \"si\", \"shume\", \"etj\", \"se\", \"pa\", \"sipas\", \"s\", \"t\", \"dikujt\", \"dike\", \"mire\", \"vet\",\n",
    "             \"bej\", \"ai\", \"vend\", \"prej\", \"ja\", \"duke\", \"tjeter\", \"kur\", \"ia\", \"ku\", \"ta\", \"keq\", \"dy\", \"ben\", \"bere\",\n",
    "             \"behet\", \"dickaje\", \"edhe\", \"madhe\", \"la\", \"sa\", \"gjate\", \"zakonisht\", \"pas\", \"veta\", \"mbi\", \"disa\", \"iu\",\n",
    "             \"mos\", \"c\", \"para\", \"dikush\", \"gje\", \"be\", \"pak\", \"tek\", \"fare\", \"beri\", \"po\", \"bie\", \"k\", \"do\", \"gjithe\",\n",
    "             \"vete\", \"mund\", \"kam\", \"le\", \"jo\", \"beje\", \"tij\", \"kane\", \"ishte\", \"jane\", \"vjen\", \"ate\", \"kete\", \"neper\",\n",
    "             \"cdo\", \"na\", \"marre\", \"merr\", \"mori\", \"rri\", \"deri\", \"b\", \"kishte\", \"mban\", \"perpara\", \"tyre\", \"marr\",\n",
    "             \"gjitha\", \"as\", \"vetem\", \"nen\", \"here\", \"tjera\", \"tjeret\", \"drejt\", \"qenet\", \"ndonje\", \"nese\", \"jap\",\n",
    "             \"merret\", \"rreth\", \"lloj\", \"dot\", \"saj\", \"nder\", \"ndersa\", \"cila\", \"veten\", \"ma\", \"ndaj\", \"mes\", \"ajo\",\n",
    "             \"cilen\", \"por\", \"ndermjet\", \"prapa\", \"mi\", \"tere\", \"jam\", \"ashtu\", \"kesaj\", \"tille\", \"behem\", \"cilat\",\n",
    "             \"kjo\", \"menjehere\", \"ca\", \"je\", \"aq\", \"aty\", \"prane\", \"ato\", \"pasur\", \"qene\", \"cilin\", \"teper\", \"njera\",\n",
    "             \"tej\", \"krejt\", \"kush\", \"bejne\", \"ti\", \"bene\", \"midis\", \"cili\", \"ende\", \"keto\", \"kemi\", \"sic\", \"kryer\",\n",
    "             \"cilit\", \"atij\", \"gjithnje\", \"andej\", \"siper\", \"sikur\", \"ketej\", \"ciles\", \"ky\", \"papritur\", \"ua\",\n",
    "             \"kryesisht\", \"gjithcka\", \"pasi\", \"kryhet\", \"mjaft\", \"ketij\", \"perbashket\", \"ata\", \"atje\", \"vazhdimisht\",\n",
    "             \"kurre\", \"tone\", \"keshtu\", \"une\", \"sapo\", \"rralle\", \"vetes\", \"ishin\", \"afert\", \"tjetren\", \"ketu\", \"cfare\",\n",
    "             \"to\", \"anes\", \"jemi\", \"asaj\", \"secila\", \"kundrejt\", \"ketyre\", \"pse\", \"tilla\", \"mua\", \"nepermjet\", \"cilet\",\n",
    "             \"ndryshe\", \"kishin\", \"ju\", \"tani\", \"atyre\", \"dic\", \"yne\", \"kudo\", \"sone\", \"sepse\", \"cilave\", \"kem\", \"ty\",\n",
    "             \"t'i\", \"nbsp\", \"tha\", \"re\", \"the\",\"jr\",\"t\"]\n",
    "stop = set(stopwords.words('english'))\n",
    "punctuation = list(string.punctuation)\n",
    "stop.update(punctuation)\n",
    "text_unknows= Word_STOPWORDS\n",
    "stop.update(text_unknows)"
   ]
  },
  {
   "cell_type": "code",
   "execution_count": 21,
   "metadata": {
    "execution": {
     "iopub.execute_input": "2021-12-21T15:43:36.674037Z",
     "iopub.status.busy": "2021-12-21T15:43:36.673162Z",
     "iopub.status.idle": "2021-12-21T15:43:36.687905Z",
     "shell.execute_reply": "2021-12-21T15:43:36.686832Z",
     "shell.execute_reply.started": "2021-12-21T15:43:36.673988Z"
    }
   },
   "outputs": [],
   "source": [
    "def strip_html(text):\n",
    "    soup = BeautifulSoup(text, \"html.parser\")\n",
    "    return soup.get_text()\n",
    "\n",
    "#Removing the square brackets\n",
    "def remove_between_square_brackets(text):\n",
    "    return re.sub('\\[[^]]*\\]', '', text)\n",
    "# Removing URL's\n",
    "def remove_between_square_brackets(text):\n",
    "    return re.sub(r'http\\S+', '', text)\n",
    "#Removing the stopwords from text\n",
    "def remove_stopwords(text):\n",
    "    final_text = []\n",
    "    for i in text.split():\n",
    "        if i.strip().lower() not in stop:\n",
    "            final_text.append(i.strip())\n",
    "    return \" \".join(final_text)\n",
    "#Removing the noisy text\n",
    "def denoise_text(text):\n",
    "    text = strip_html(text)\n",
    "    text = remove_between_square_brackets(text)\n",
    "    text = remove_stopwords(text)\n",
    "    return text"
   ]
  },
  {
   "cell_type": "code",
   "execution_count": 22,
   "metadata": {
    "execution": {
     "iopub.execute_input": "2021-12-21T15:43:36.690422Z",
     "iopub.status.busy": "2021-12-21T15:43:36.689224Z",
     "iopub.status.idle": "2021-12-21T15:43:37.703843Z",
     "shell.execute_reply": "2021-12-21T15:43:37.702911Z",
     "shell.execute_reply.started": "2021-12-21T15:43:36.690294Z"
    }
   },
   "outputs": [],
   "source": [
    "df['Posts'] = df.Posts.apply(lambda x : denoise_text(x))"
   ]
  },
  {
   "cell_type": "code",
   "execution_count": 23,
   "metadata": {
    "execution": {
     "iopub.execute_input": "2021-12-21T15:43:37.705998Z",
     "iopub.status.busy": "2021-12-21T15:43:37.705646Z",
     "iopub.status.idle": "2021-12-21T15:43:37.718348Z",
     "shell.execute_reply": "2021-12-21T15:43:37.717142Z",
     "shell.execute_reply.started": "2021-12-21T15:43:37.705951Z"
    }
   },
   "outputs": [
    {
     "data": {
      "text/plain": [
       "0       http www youtube com watch v http medium tumbl...\n",
       "1       finding lack post alarming sex boring position...\n",
       "2       good one http www youtube com watch v fhigbolf...\n",
       "3       dear intp enjoyed conversation day esoteric ga...\n",
       "4       fired another silly misconception approaching ...\n",
       "                              ...                        \n",
       "8670    http www youtube com watch v ixfp always think...\n",
       "8671    thread already exists someplace else http pers...\n",
       "8672    many question thing would take purple pill pic...\n",
       "8673    conflicted right come wanting child honestly m...\n",
       "8674    long since personalitycafe although seem chang...\n",
       "Name: Posts, Length: 8675, dtype: object"
      ]
     },
     "execution_count": 23,
     "metadata": {},
     "output_type": "execute_result"
    }
   ],
   "source": [
    "df['Posts']"
   ]
  },
  {
   "cell_type": "code",
   "execution_count": 24,
   "metadata": {
    "execution": {
     "iopub.execute_input": "2021-12-21T15:43:37.721198Z",
     "iopub.status.busy": "2021-12-21T15:43:37.720110Z",
     "iopub.status.idle": "2021-12-21T15:43:37.727828Z",
     "shell.execute_reply": "2021-12-21T15:43:37.726620Z",
     "shell.execute_reply.started": "2021-12-21T15:43:37.721152Z"
    }
   },
   "outputs": [],
   "source": [
    "df['Posts']=df['Posts'].astype(str)"
   ]
  },
  {
   "cell_type": "code",
   "execution_count": 25,
   "metadata": {
    "execution": {
     "iopub.execute_input": "2021-12-21T15:43:37.730901Z",
     "iopub.status.busy": "2021-12-21T15:43:37.729692Z",
     "iopub.status.idle": "2021-12-21T15:43:38.960085Z",
     "shell.execute_reply": "2021-12-21T15:43:38.959118Z",
     "shell.execute_reply.started": "2021-12-21T15:43:37.730830Z"
    }
   },
   "outputs": [],
   "source": [
    "import string\n",
    "def punctuation_removal(text):\n",
    "    all_list = [char for char in text if char not in string.punctuation]\n",
    "    clean_str = ''.join(all_list)\n",
    "    return clean_str\n",
    "df['Posts'] = df['Posts'].apply(punctuation_removal)"
   ]
  },
  {
   "cell_type": "markdown",
   "metadata": {},
   "source": [
    "## Using LIWC dictionary to extract features"
   ]
  },
  {
   "cell_type": "code",
   "execution_count": 28,
   "metadata": {
    "execution": {
     "iopub.execute_input": "2021-12-21T15:43:38.962133Z",
     "iopub.status.busy": "2021-12-21T15:43:38.961819Z",
     "iopub.status.idle": "2021-12-21T15:43:43.874538Z",
     "shell.execute_reply": "2021-12-21T15:43:43.873557Z",
     "shell.execute_reply.started": "2021-12-21T15:43:38.962088Z"
    }
   },
   "outputs": [],
   "source": [
    "corpus = []\n",
    "words = []\n",
    "\n",
    "for i in range(0,len(df)):\n",
    "    review = re.sub('[^a-zA-Z0-9]',' ',df['Posts'][i])\n",
    "    review = review.lower()\n",
    "    review = review.split() \n",
    "    review = list(category for token in review for category in parse(token))\n",
    "    statements = ' '.join(review)\n",
    "    corpus.append(statements)\n",
    "    words.append(review)"
   ]
  },
  {
   "cell_type": "code",
   "execution_count": 29,
   "metadata": {
    "execution": {
     "iopub.execute_input": "2021-12-21T15:43:43.876551Z",
     "iopub.status.busy": "2021-12-21T15:43:43.876240Z",
     "iopub.status.idle": "2021-12-21T15:43:45.587262Z",
     "shell.execute_reply": "2021-12-21T15:43:45.586265Z",
     "shell.execute_reply.started": "2021-12-21T15:43:43.876495Z"
    }
   },
   "outputs": [],
   "source": [
    "from sklearn.feature_extraction.text import TfidfVectorizer\n",
    "vectorizer=TfidfVectorizer(max_features=5000)\n",
    "X_fit=vectorizer.fit(corpus)"
   ]
  },
  {
   "cell_type": "code",
   "execution_count": 30,
   "metadata": {
    "execution": {
     "iopub.execute_input": "2021-12-21T15:43:45.589227Z",
     "iopub.status.busy": "2021-12-21T15:43:45.588950Z",
     "iopub.status.idle": "2021-12-21T15:43:47.489178Z",
     "shell.execute_reply": "2021-12-21T15:43:47.488218Z",
     "shell.execute_reply.started": "2021-12-21T15:43:45.589186Z"
    }
   },
   "outputs": [],
   "source": [
    "X_transformed=X_fit.transform(corpus)"
   ]
  },
  {
   "cell_type": "code",
   "execution_count": 31,
   "metadata": {
    "execution": {
     "iopub.execute_input": "2021-12-21T15:43:47.491321Z",
     "iopub.status.busy": "2021-12-21T15:43:47.491004Z",
     "iopub.status.idle": "2021-12-21T15:43:47.537954Z",
     "shell.execute_reply": "2021-12-21T15:43:47.535936Z",
     "shell.execute_reply.started": "2021-12-21T15:43:47.491276Z"
    }
   },
   "outputs": [
    {
     "data": {
      "text/html": [
       "<div>\n",
       "<style scoped>\n",
       "    .dataframe tbody tr th:only-of-type {\n",
       "        vertical-align: middle;\n",
       "    }\n",
       "\n",
       "    .dataframe tbody tr th {\n",
       "        vertical-align: top;\n",
       "    }\n",
       "\n",
       "    .dataframe thead th {\n",
       "        text-align: right;\n",
       "    }\n",
       "</style>\n",
       "<table border=\"1\" class=\"dataframe\">\n",
       "  <thead>\n",
       "    <tr style=\"text-align: right;\">\n",
       "      <th></th>\n",
       "      <th>achieve</th>\n",
       "      <th>achievement</th>\n",
       "      <th>adj</th>\n",
       "      <th>adjectives</th>\n",
       "      <th>adverb</th>\n",
       "      <th>adverbs</th>\n",
       "      <th>affect</th>\n",
       "      <th>affiliation</th>\n",
       "      <th>anger</th>\n",
       "      <th>anx</th>\n",
       "      <th>...</th>\n",
       "      <th>tentat</th>\n",
       "      <th>tentative</th>\n",
       "      <th>they</th>\n",
       "      <th>time</th>\n",
       "      <th>verb</th>\n",
       "      <th>verbs</th>\n",
       "      <th>we</th>\n",
       "      <th>words</th>\n",
       "      <th>work</th>\n",
       "      <th>you</th>\n",
       "    </tr>\n",
       "  </thead>\n",
       "  <tbody>\n",
       "    <tr>\n",
       "      <th>0</th>\n",
       "      <td>0.043255</td>\n",
       "      <td>0.043255</td>\n",
       "      <td>0.082724</td>\n",
       "      <td>0.082724</td>\n",
       "      <td>0.035988</td>\n",
       "      <td>0.035988</td>\n",
       "      <td>0.230109</td>\n",
       "      <td>0.122485</td>\n",
       "      <td>0.000000</td>\n",
       "      <td>0.022479</td>\n",
       "      <td>...</td>\n",
       "      <td>0.039582</td>\n",
       "      <td>0.039582</td>\n",
       "      <td>0.0</td>\n",
       "      <td>0.201392</td>\n",
       "      <td>0.161777</td>\n",
       "      <td>0.183347</td>\n",
       "      <td>0.0</td>\n",
       "      <td>0.125855</td>\n",
       "      <td>0.079264</td>\n",
       "      <td>0.022047</td>\n",
       "    </tr>\n",
       "    <tr>\n",
       "      <th>1</th>\n",
       "      <td>0.038478</td>\n",
       "      <td>0.038478</td>\n",
       "      <td>0.100251</td>\n",
       "      <td>0.100251</td>\n",
       "      <td>0.059758</td>\n",
       "      <td>0.059758</td>\n",
       "      <td>0.319838</td>\n",
       "      <td>0.106822</td>\n",
       "      <td>0.038875</td>\n",
       "      <td>0.013331</td>\n",
       "      <td>...</td>\n",
       "      <td>0.032010</td>\n",
       "      <td>0.032010</td>\n",
       "      <td>0.0</td>\n",
       "      <td>0.149292</td>\n",
       "      <td>0.208937</td>\n",
       "      <td>0.217465</td>\n",
       "      <td>0.0</td>\n",
       "      <td>0.132215</td>\n",
       "      <td>0.085467</td>\n",
       "      <td>0.000000</td>\n",
       "    </tr>\n",
       "    <tr>\n",
       "      <th>2</th>\n",
       "      <td>0.041188</td>\n",
       "      <td>0.041188</td>\n",
       "      <td>0.082195</td>\n",
       "      <td>0.082195</td>\n",
       "      <td>0.074532</td>\n",
       "      <td>0.074532</td>\n",
       "      <td>0.338938</td>\n",
       "      <td>0.066892</td>\n",
       "      <td>0.026008</td>\n",
       "      <td>0.016054</td>\n",
       "      <td>...</td>\n",
       "      <td>0.048826</td>\n",
       "      <td>0.048826</td>\n",
       "      <td>0.0</td>\n",
       "      <td>0.220874</td>\n",
       "      <td>0.184854</td>\n",
       "      <td>0.202826</td>\n",
       "      <td>0.0</td>\n",
       "      <td>0.138673</td>\n",
       "      <td>0.066899</td>\n",
       "      <td>0.000000</td>\n",
       "    </tr>\n",
       "    <tr>\n",
       "      <th>3</th>\n",
       "      <td>0.022771</td>\n",
       "      <td>0.022771</td>\n",
       "      <td>0.092950</td>\n",
       "      <td>0.092950</td>\n",
       "      <td>0.090937</td>\n",
       "      <td>0.090937</td>\n",
       "      <td>0.239521</td>\n",
       "      <td>0.062067</td>\n",
       "      <td>0.033463</td>\n",
       "      <td>0.008606</td>\n",
       "      <td>...</td>\n",
       "      <td>0.070261</td>\n",
       "      <td>0.070261</td>\n",
       "      <td>0.0</td>\n",
       "      <td>0.082613</td>\n",
       "      <td>0.192008</td>\n",
       "      <td>0.210589</td>\n",
       "      <td>0.0</td>\n",
       "      <td>0.167271</td>\n",
       "      <td>0.078627</td>\n",
       "      <td>0.012662</td>\n",
       "    </tr>\n",
       "    <tr>\n",
       "      <th>4</th>\n",
       "      <td>0.047817</td>\n",
       "      <td>0.047817</td>\n",
       "      <td>0.119281</td>\n",
       "      <td>0.119281</td>\n",
       "      <td>0.040579</td>\n",
       "      <td>0.040579</td>\n",
       "      <td>0.333871</td>\n",
       "      <td>0.057347</td>\n",
       "      <td>0.062803</td>\n",
       "      <td>0.004970</td>\n",
       "      <td>...</td>\n",
       "      <td>0.038188</td>\n",
       "      <td>0.038188</td>\n",
       "      <td>0.0</td>\n",
       "      <td>0.104955</td>\n",
       "      <td>0.190762</td>\n",
       "      <td>0.209838</td>\n",
       "      <td>0.0</td>\n",
       "      <td>0.121639</td>\n",
       "      <td>0.100369</td>\n",
       "      <td>0.000000</td>\n",
       "    </tr>\n",
       "    <tr>\n",
       "      <th>...</th>\n",
       "      <td>...</td>\n",
       "      <td>...</td>\n",
       "      <td>...</td>\n",
       "      <td>...</td>\n",
       "      <td>...</td>\n",
       "      <td>...</td>\n",
       "      <td>...</td>\n",
       "      <td>...</td>\n",
       "      <td>...</td>\n",
       "      <td>...</td>\n",
       "      <td>...</td>\n",
       "      <td>...</td>\n",
       "      <td>...</td>\n",
       "      <td>...</td>\n",
       "      <td>...</td>\n",
       "      <td>...</td>\n",
       "      <td>...</td>\n",
       "      <td>...</td>\n",
       "      <td>...</td>\n",
       "      <td>...</td>\n",
       "      <td>...</td>\n",
       "    </tr>\n",
       "    <tr>\n",
       "      <th>8670</th>\n",
       "      <td>0.037392</td>\n",
       "      <td>0.037392</td>\n",
       "      <td>0.087946</td>\n",
       "      <td>0.087946</td>\n",
       "      <td>0.055998</td>\n",
       "      <td>0.055998</td>\n",
       "      <td>0.293053</td>\n",
       "      <td>0.026693</td>\n",
       "      <td>0.080953</td>\n",
       "      <td>0.016656</td>\n",
       "      <td>...</td>\n",
       "      <td>0.079988</td>\n",
       "      <td>0.079988</td>\n",
       "      <td>0.0</td>\n",
       "      <td>0.149225</td>\n",
       "      <td>0.205113</td>\n",
       "      <td>0.231751</td>\n",
       "      <td>0.0</td>\n",
       "      <td>0.130557</td>\n",
       "      <td>0.085429</td>\n",
       "      <td>0.000000</td>\n",
       "    </tr>\n",
       "    <tr>\n",
       "      <th>8671</th>\n",
       "      <td>0.018921</td>\n",
       "      <td>0.018921</td>\n",
       "      <td>0.096112</td>\n",
       "      <td>0.096112</td>\n",
       "      <td>0.053236</td>\n",
       "      <td>0.053236</td>\n",
       "      <td>0.346570</td>\n",
       "      <td>0.079077</td>\n",
       "      <td>0.010427</td>\n",
       "      <td>0.003576</td>\n",
       "      <td>...</td>\n",
       "      <td>0.053229</td>\n",
       "      <td>0.053229</td>\n",
       "      <td>0.0</td>\n",
       "      <td>0.106398</td>\n",
       "      <td>0.236739</td>\n",
       "      <td>0.255609</td>\n",
       "      <td>0.0</td>\n",
       "      <td>0.126976</td>\n",
       "      <td>0.120348</td>\n",
       "      <td>0.000000</td>\n",
       "    </tr>\n",
       "    <tr>\n",
       "      <th>8672</th>\n",
       "      <td>0.047948</td>\n",
       "      <td>0.047948</td>\n",
       "      <td>0.071764</td>\n",
       "      <td>0.071764</td>\n",
       "      <td>0.038296</td>\n",
       "      <td>0.038296</td>\n",
       "      <td>0.301306</td>\n",
       "      <td>0.057504</td>\n",
       "      <td>0.043598</td>\n",
       "      <td>0.000000</td>\n",
       "      <td>...</td>\n",
       "      <td>0.028719</td>\n",
       "      <td>0.028719</td>\n",
       "      <td>0.0</td>\n",
       "      <td>0.153080</td>\n",
       "      <td>0.193675</td>\n",
       "      <td>0.210412</td>\n",
       "      <td>0.0</td>\n",
       "      <td>0.124363</td>\n",
       "      <td>0.076681</td>\n",
       "      <td>0.014664</td>\n",
       "    </tr>\n",
       "    <tr>\n",
       "      <th>8673</th>\n",
       "      <td>0.023307</td>\n",
       "      <td>0.023307</td>\n",
       "      <td>0.068477</td>\n",
       "      <td>0.068477</td>\n",
       "      <td>0.076274</td>\n",
       "      <td>0.076274</td>\n",
       "      <td>0.271232</td>\n",
       "      <td>0.051765</td>\n",
       "      <td>0.015699</td>\n",
       "      <td>0.013459</td>\n",
       "      <td>...</td>\n",
       "      <td>0.062046</td>\n",
       "      <td>0.062046</td>\n",
       "      <td>0.0</td>\n",
       "      <td>0.139523</td>\n",
       "      <td>0.228583</td>\n",
       "      <td>0.250538</td>\n",
       "      <td>0.0</td>\n",
       "      <td>0.153716</td>\n",
       "      <td>0.108718</td>\n",
       "      <td>0.000000</td>\n",
       "    </tr>\n",
       "    <tr>\n",
       "      <th>8674</th>\n",
       "      <td>0.031177</td>\n",
       "      <td>0.031177</td>\n",
       "      <td>0.059254</td>\n",
       "      <td>0.059254</td>\n",
       "      <td>0.065217</td>\n",
       "      <td>0.065217</td>\n",
       "      <td>0.228049</td>\n",
       "      <td>0.035610</td>\n",
       "      <td>0.017999</td>\n",
       "      <td>0.009258</td>\n",
       "      <td>...</td>\n",
       "      <td>0.063727</td>\n",
       "      <td>0.063727</td>\n",
       "      <td>0.0</td>\n",
       "      <td>0.165892</td>\n",
       "      <td>0.251713</td>\n",
       "      <td>0.281327</td>\n",
       "      <td>0.0</td>\n",
       "      <td>0.155506</td>\n",
       "      <td>0.053421</td>\n",
       "      <td>0.000000</td>\n",
       "    </tr>\n",
       "  </tbody>\n",
       "</table>\n",
       "<p>8675 rows × 110 columns</p>\n",
       "</div>"
      ],
      "text/plain": [
       "       achieve  achievement       adj  adjectives    adverb   adverbs  \\\n",
       "0     0.043255     0.043255  0.082724    0.082724  0.035988  0.035988   \n",
       "1     0.038478     0.038478  0.100251    0.100251  0.059758  0.059758   \n",
       "2     0.041188     0.041188  0.082195    0.082195  0.074532  0.074532   \n",
       "3     0.022771     0.022771  0.092950    0.092950  0.090937  0.090937   \n",
       "4     0.047817     0.047817  0.119281    0.119281  0.040579  0.040579   \n",
       "...        ...          ...       ...         ...       ...       ...   \n",
       "8670  0.037392     0.037392  0.087946    0.087946  0.055998  0.055998   \n",
       "8671  0.018921     0.018921  0.096112    0.096112  0.053236  0.053236   \n",
       "8672  0.047948     0.047948  0.071764    0.071764  0.038296  0.038296   \n",
       "8673  0.023307     0.023307  0.068477    0.068477  0.076274  0.076274   \n",
       "8674  0.031177     0.031177  0.059254    0.059254  0.065217  0.065217   \n",
       "\n",
       "        affect  affiliation     anger       anx  ...    tentat  tentative  \\\n",
       "0     0.230109     0.122485  0.000000  0.022479  ...  0.039582   0.039582   \n",
       "1     0.319838     0.106822  0.038875  0.013331  ...  0.032010   0.032010   \n",
       "2     0.338938     0.066892  0.026008  0.016054  ...  0.048826   0.048826   \n",
       "3     0.239521     0.062067  0.033463  0.008606  ...  0.070261   0.070261   \n",
       "4     0.333871     0.057347  0.062803  0.004970  ...  0.038188   0.038188   \n",
       "...        ...          ...       ...       ...  ...       ...        ...   \n",
       "8670  0.293053     0.026693  0.080953  0.016656  ...  0.079988   0.079988   \n",
       "8671  0.346570     0.079077  0.010427  0.003576  ...  0.053229   0.053229   \n",
       "8672  0.301306     0.057504  0.043598  0.000000  ...  0.028719   0.028719   \n",
       "8673  0.271232     0.051765  0.015699  0.013459  ...  0.062046   0.062046   \n",
       "8674  0.228049     0.035610  0.017999  0.009258  ...  0.063727   0.063727   \n",
       "\n",
       "      they      time      verb     verbs   we     words      work       you  \n",
       "0      0.0  0.201392  0.161777  0.183347  0.0  0.125855  0.079264  0.022047  \n",
       "1      0.0  0.149292  0.208937  0.217465  0.0  0.132215  0.085467  0.000000  \n",
       "2      0.0  0.220874  0.184854  0.202826  0.0  0.138673  0.066899  0.000000  \n",
       "3      0.0  0.082613  0.192008  0.210589  0.0  0.167271  0.078627  0.012662  \n",
       "4      0.0  0.104955  0.190762  0.209838  0.0  0.121639  0.100369  0.000000  \n",
       "...    ...       ...       ...       ...  ...       ...       ...       ...  \n",
       "8670   0.0  0.149225  0.205113  0.231751  0.0  0.130557  0.085429  0.000000  \n",
       "8671   0.0  0.106398  0.236739  0.255609  0.0  0.126976  0.120348  0.000000  \n",
       "8672   0.0  0.153080  0.193675  0.210412  0.0  0.124363  0.076681  0.014664  \n",
       "8673   0.0  0.139523  0.228583  0.250538  0.0  0.153716  0.108718  0.000000  \n",
       "8674   0.0  0.165892  0.251713  0.281327  0.0  0.155506  0.053421  0.000000  \n",
       "\n",
       "[8675 rows x 110 columns]"
      ]
     },
     "execution_count": 31,
     "metadata": {},
     "output_type": "execute_result"
    }
   ],
   "source": [
    "features = vectorizer.get_feature_names()\n",
    "df_count = pd.DataFrame(X_transformed.toarray(),columns = features)\n",
    "df_count"
   ]
  },
  {
   "cell_type": "markdown",
   "metadata": {},
   "source": [
    "# Split data to train and test"
   ]
  },
  {
   "cell_type": "code",
   "execution_count": 32,
   "metadata": {
    "execution": {
     "iopub.execute_input": "2021-12-21T16:40:11.003714Z",
     "iopub.status.busy": "2021-12-21T16:40:11.003415Z",
     "iopub.status.idle": "2021-12-21T16:40:11.008708Z",
     "shell.execute_reply": "2021-12-21T16:40:11.007310Z",
     "shell.execute_reply.started": "2021-12-21T16:40:11.003682Z"
    }
   },
   "outputs": [],
   "source": [
    "x=X_transformed"
   ]
  },
  {
   "cell_type": "code",
   "execution_count": 33,
   "metadata": {
    "execution": {
     "iopub.execute_input": "2021-12-21T15:58:05.598256Z",
     "iopub.status.busy": "2021-12-21T15:58:05.597150Z",
     "iopub.status.idle": "2021-12-21T15:58:05.603800Z",
     "shell.execute_reply": "2021-12-21T15:58:05.602636Z",
     "shell.execute_reply.started": "2021-12-21T15:58:05.598211Z"
    }
   },
   "outputs": [],
   "source": [
    "y=df['Type']"
   ]
  },
  {
   "cell_type": "code",
   "execution_count": 34,
   "metadata": {
    "execution": {
     "iopub.execute_input": "2021-12-21T15:43:47.559405Z",
     "iopub.status.busy": "2021-12-21T15:43:47.557850Z",
     "iopub.status.idle": "2021-12-21T15:43:47.570728Z",
     "shell.execute_reply": "2021-12-21T15:43:47.569121Z",
     "shell.execute_reply.started": "2021-12-21T15:43:47.559358Z"
    }
   },
   "outputs": [
    {
     "data": {
      "text/plain": [
       "<8675x110 sparse matrix of type '<class 'numpy.float64'>'\n",
       "\twith 857551 stored elements in Compressed Sparse Row format>"
      ]
     },
     "execution_count": 34,
     "metadata": {},
     "output_type": "execute_result"
    }
   ],
   "source": [
    "x"
   ]
  },
  {
   "cell_type": "code",
   "execution_count": 35,
   "metadata": {
    "execution": {
     "iopub.execute_input": "2021-12-21T15:43:47.573527Z",
     "iopub.status.busy": "2021-12-21T15:43:47.573154Z",
     "iopub.status.idle": "2021-12-21T15:43:47.583943Z",
     "shell.execute_reply": "2021-12-21T15:43:47.582529Z",
     "shell.execute_reply.started": "2021-12-21T15:43:47.573464Z"
    }
   },
   "outputs": [
    {
     "name": "stdout",
     "output_type": "stream",
     "text": [
      "Counter({4: 5563, 0: 1774, 1: 979, 3: 217, 2: 142})\n"
     ]
    }
   ],
   "source": [
    "counter = Counter(y)\n",
    "print(counter)"
   ]
  },
  {
   "cell_type": "code",
   "execution_count": 36,
   "metadata": {
    "execution": {
     "iopub.execute_input": "2021-12-21T15:43:47.586313Z",
     "iopub.status.busy": "2021-12-21T15:43:47.585330Z",
     "iopub.status.idle": "2021-12-21T15:43:48.015752Z",
     "shell.execute_reply": "2021-12-21T15:43:48.014842Z",
     "shell.execute_reply.started": "2021-12-21T15:43:47.586266Z"
    }
   },
   "outputs": [],
   "source": [
    "oversample = SMOTE(random_state = 101)\n",
    "x, y = oversample.fit_resample(x, y)"
   ]
  },
  {
   "cell_type": "code",
   "execution_count": 37,
   "metadata": {
    "execution": {
     "iopub.execute_input": "2021-12-21T15:43:48.017935Z",
     "iopub.status.busy": "2021-12-21T15:43:48.017572Z",
     "iopub.status.idle": "2021-12-21T15:43:48.028323Z",
     "shell.execute_reply": "2021-12-21T15:43:48.026740Z",
     "shell.execute_reply.started": "2021-12-21T15:43:48.017844Z"
    }
   },
   "outputs": [],
   "source": [
    "#X_train, X_test, y_train, y_test = train_test_split(x, y, test_size=0.30)"
   ]
  },
  {
   "cell_type": "markdown",
   "metadata": {},
   "source": [
    "# Modelling"
   ]
  },
  {
   "cell_type": "code",
   "execution_count": 38,
   "metadata": {},
   "outputs": [],
   "source": [
    "from sklearn.metrics import classification_report, confusion_matrix, accuracy_score\n",
    "import warnings"
   ]
  },
  {
   "cell_type": "markdown",
   "metadata": {},
   "source": [
    "# SVM"
   ]
  },
  {
   "cell_type": "code",
   "execution_count": 41,
   "metadata": {},
   "outputs": [
    {
     "name": "stdout",
     "output_type": "stream",
     "text": [
      "[[1684    2 2824  994   59]\n",
      " [ 961   54 3730  770   48]\n",
      " [ 925    0 4112  483   43]\n",
      " [1506   17 2411 1568   61]\n",
      " [1008   37 3685  724  109]]\n",
      "              precision    recall  f1-score   support\n",
      "\n",
      "           0       0.28      0.30      0.29      5563\n",
      "           1       0.49      0.01      0.02      5563\n",
      "           2       0.25      0.74      0.37      5563\n",
      "           3       0.35      0.28      0.31      5563\n",
      "           4       0.34      0.02      0.04      5563\n",
      "\n",
      "    accuracy                           0.27     27815\n",
      "   macro avg       0.34      0.27      0.20     27815\n",
      "weighted avg       0.34      0.27      0.20     27815\n",
      "\n",
      "0.2706093834262089\n"
     ]
    }
   ],
   "source": [
    "from sklearn.svm import SVC\n",
    "svm = SVC(gamma='auto')\n",
    "svm.fit(x,y)\n",
    "y_pred = svm.predict(x)\n",
    "print(confusion_matrix(y,y_pred))\n",
    "print(classification_report(y,y_pred))\n",
    "print(accuracy_score(y, y_pred))\n",
    "svm = accuracy_score(y, y_pred)"
   ]
  },
  {
   "cell_type": "markdown",
   "metadata": {},
   "source": [
    "# Gradient Boosting"
   ]
  },
  {
   "cell_type": "code",
   "execution_count": 42,
   "metadata": {},
   "outputs": [
    {
     "name": "stdout",
     "output_type": "stream",
     "text": [
      "[[2338  773  655  757 1040]\n",
      " [ 786 2807  610  555  805]\n",
      " [ 348  402 4358  203  252]\n",
      " [ 488  494  396 3901  284]\n",
      " [ 612  428  313  315 3895]]\n",
      "              precision    recall  f1-score   support\n",
      "\n",
      "           0       0.51      0.42      0.46      5563\n",
      "           1       0.57      0.50      0.54      5563\n",
      "           2       0.69      0.78      0.73      5563\n",
      "           3       0.68      0.70      0.69      5563\n",
      "           4       0.62      0.70      0.66      5563\n",
      "\n",
      "    accuracy                           0.62     27815\n",
      "   macro avg       0.61      0.62      0.62     27815\n",
      "weighted avg       0.61      0.62      0.62     27815\n",
      "\n",
      "0.6219306129786086\n"
     ]
    }
   ],
   "source": [
    "from sklearn.ensemble import GradientBoostingClassifier\n",
    "gb = GradientBoostingClassifier(n_estimators=100, learning_rate=1.0,max_depth=1, random_state=0)\n",
    "gb.fit(x,y)\n",
    "y_pred = gb.predict(x)\n",
    "print(confusion_matrix(y,y_pred))\n",
    "print(classification_report(y,y_pred))\n",
    "print(accuracy_score(y, y_pred))\n",
    "gb = accuracy_score(y, y_pred)"
   ]
  },
  {
   "cell_type": "markdown",
   "metadata": {},
   "source": [
    "# Logistic Regression"
   ]
  },
  {
   "cell_type": "code",
   "execution_count": 43,
   "metadata": {},
   "outputs": [
    {
     "name": "stdout",
     "output_type": "stream",
     "text": [
      "[[1838  771  730 1300  924]\n",
      " [ 754 2028  813 1012  956]\n",
      " [ 775  735 2309  663 1081]\n",
      " [1143  580  612 2551  677]\n",
      " [ 901  904 1070  872 1816]]\n",
      "              precision    recall  f1-score   support\n",
      "\n",
      "           0       0.34      0.33      0.33      5563\n",
      "           1       0.40      0.36      0.38      5563\n",
      "           2       0.42      0.42      0.42      5563\n",
      "           3       0.40      0.46      0.43      5563\n",
      "           4       0.33      0.33      0.33      5563\n",
      "\n",
      "    accuracy                           0.38     27815\n",
      "   macro avg       0.38      0.38      0.38     27815\n",
      "weighted avg       0.38      0.38      0.38     27815\n",
      "\n",
      "0.37900413445982384\n"
     ]
    }
   ],
   "source": [
    "from sklearn.linear_model import LogisticRegression\n",
    "lr = LogisticRegression()\n",
    "lr.fit(x,y)\n",
    "y_pred = lr.predict(x)\n",
    "print(confusion_matrix(y,y_pred))\n",
    "print(classification_report(y,y_pred))\n",
    "print(accuracy_score(y, y_pred))\n",
    "lr = accuracy_score(y, y_pred)"
   ]
  },
  {
   "cell_type": "markdown",
   "metadata": {},
   "source": [
    "# XGBoost"
   ]
  },
  {
   "cell_type": "code",
   "execution_count": 44,
   "metadata": {},
   "outputs": [
    {
     "name": "stdout",
     "output_type": "stream",
     "text": [
      "[[5422    4    0    1  136]\n",
      " [   4 5514    0    0   45]\n",
      " [   0    0 5563    0    0]\n",
      " [   0    0    0 5563    0]\n",
      " [  26    4    0    0 5533]]\n",
      "              precision    recall  f1-score   support\n",
      "\n",
      "           0       0.99      0.97      0.98      5563\n",
      "           1       1.00      0.99      0.99      5563\n",
      "           2       1.00      1.00      1.00      5563\n",
      "           3       1.00      1.00      1.00      5563\n",
      "           4       0.97      0.99      0.98      5563\n",
      "\n",
      "    accuracy                           0.99     27815\n",
      "   macro avg       0.99      0.99      0.99     27815\n",
      "weighted avg       0.99      0.99      0.99     27815\n",
      "\n",
      "0.9920905985978788\n"
     ]
    }
   ],
   "source": [
    "from xgboost import XGBClassifier\n",
    "xgb = XGBClassifier()\n",
    "xgb.fit(x,y)\n",
    "y_pred = xgb.predict(x)\n",
    "print(confusion_matrix(y,y_pred))\n",
    "print(classification_report(y,y_pred))\n",
    "print(accuracy_score(y, y_pred))\n",
    "xgb = accuracy_score(y, y_pred)"
   ]
  },
  {
   "cell_type": "code",
   "execution_count": 47,
   "metadata": {},
   "outputs": [
    {
     "name": "stdout",
     "output_type": "stream",
     "text": [
      "[[5563    0    0    0    0]\n",
      " [   4 5559    0    0    0]\n",
      " [   0    0 5563    0    0]\n",
      " [   0    0    0 5563    0]\n",
      " [  26    4    0    0 5533]]\n",
      "              precision    recall  f1-score   support\n",
      "\n",
      "           0       0.99      1.00      1.00      5563\n",
      "           1       1.00      1.00      1.00      5563\n",
      "           2       1.00      1.00      1.00      5563\n",
      "           3       1.00      1.00      1.00      5563\n",
      "           4       1.00      0.99      1.00      5563\n",
      "\n",
      "    accuracy                           1.00     27815\n",
      "   macro avg       1.00      1.00      1.00     27815\n",
      "weighted avg       1.00      1.00      1.00     27815\n",
      "\n",
      "0.9987776379651268\n"
     ]
    }
   ],
   "source": [
    "from sklearn.tree import DecisionTreeClassifier\n",
    "from sklearn.ensemble import RandomForestClassifier, VotingClassifier\n",
    "clf1 = XGBClassifier()\n",
    "clf3 = DecisionTreeClassifier()\n",
    "eclf1 = VotingClassifier(estimators=[('lr', clf1), ('dt', clf3)], voting='hard')\n",
    "eclf1.fit(x, y)\n",
    "y_pred = eclf1.predict(x)\n",
    "print(confusion_matrix(y,y_pred))\n",
    "print(classification_report(y,y_pred))\n",
    "print(accuracy_score(y, y_pred))\n",
    "vot = accuracy_score(y, y_pred)"
   ]
  },
  {
   "cell_type": "markdown",
   "metadata": {},
   "source": [
    "# Comparison"
   ]
  },
  {
   "cell_type": "code",
   "execution_count": 48,
   "metadata": {},
   "outputs": [],
   "source": [
    "score = [svm*100,gb*100,lr*100,xgb*100,vot*100]"
   ]
  },
  {
   "cell_type": "code",
   "execution_count": 50,
   "metadata": {},
   "outputs": [
    {
     "name": "stdout",
     "output_type": "stream",
     "text": [
      "[0 1 2 3 4]\n",
      "[27.060938342620886, 62.193061297860865, 37.90041344598238, 99.20905985978789, 99.87776379651268]\n"
     ]
    }
   ],
   "source": [
    "import numpy as np\n",
    "#make variabel for save the result and to show it\n",
    "classifier = ('SVM','GradientBoosting','LR','XGB','VOting')\n",
    "y_pos = np.arange(len(classifier))\n",
    "print(y_pos)\n",
    "print(score)"
   ]
  },
  {
   "cell_type": "code",
   "execution_count": 51,
   "metadata": {},
   "outputs": [
    {
     "data": {
      "image/png": "[encoded data removed]",
      "text/plain": [
       "<Figure size 432x288 with 1 Axes>"
      ]
     },
     "metadata": {
      "needs_background": "light"
     },
     "output_type": "display_data"
    }
   ],
   "source": [
    "import matplotlib.pyplot as plt2\n",
    "plt2.barh(y_pos, score, align='center', alpha=0.5,color='blue')\n",
    "plt2.yticks(y_pos, classifier)\n",
    "plt2.xlabel('Score')\n",
    "plt2.title('Classification Performance')\n",
    "plt2.show()"
   ]
  },
  {
   "cell_type": "code",
   "execution_count": null,
   "metadata": {},
   "outputs": [],
   "source": []
  }
 ],
 "metadata": {
  "kernelspec": {
   "display_name": "Python 3",
   "language": "python",
   "name": "python3"
  },
  "language_info": {
   "codemirror_mode": {
    "name": "ipython",
    "version": 3
   },
   "file_extension": ".py",
   "mimetype": "text/x-python",
   "name": "python",
   "nbconvert_exporter": "python",
   "pygments_lexer": "ipython3",
   "version": "3.7.4"
  }
 },
 "nbformat": 4,
 "nbformat_minor": 4
}
